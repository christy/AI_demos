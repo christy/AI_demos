{
 "cells": [
  {
   "cell_type": "markdown",
   "id": "369c3444",
   "metadata": {},
   "source": [
    "# ReadtheDocs Retrieval Augmented Generation (RAG)"
   ]
  },
  {
   "cell_type": "markdown",
   "id": "f6ffd11a",
   "metadata": {},
   "source": [
    "In this notebook, we are going to create a chatbot about our product documentation pages.  The chatbot is going to follow RAG steps to retrieve chunks of data using Semantic Vector Search, then the Question + Context will be fed as a Prompt to a LLM to generate an answer.\n",
    "\n",
    "Many RAG demos use OpenAI for the Embedding Model and ChatGPT for the Generative AI model.  **In this notebook, we will demo a fully open source RAG stack.**\n",
    "\n",
    "Using open-source Q&A with retrieval saves money since we make free calls to our own data almost all the time - retrieval, evaluation, and development iterations.\n",
    "\n",
    "<div>\n",
    "<img src=\"images/rag_image.png\" width=\"80%\"/>\n",
    "</div>\n",
    "\n",
    "Let's get started!"
   ]
  },
  {
   "cell_type": "code",
   "execution_count": 1,
   "id": "b2509fe9",
   "metadata": {},
   "outputs": [],
   "source": [
    "# For colab install these libraries in this order:\n",
    "# !python -m pip install torch transformers sentence-transformers langchain\n",
    "# !python -m pip install -U weaviate\n",
    "# !python -m pip install unstructured openai tqdm numpy ipykernel \n",
    "# !python -m pip install ragas datasets\n",
    "# !python -m pip install -U langchain"
   ]
  },
  {
   "cell_type": "code",
   "execution_count": 2,
   "id": "d7570b2e",
   "metadata": {},
   "outputs": [],
   "source": [
    "# Import common libraries.\n",
    "import sys, os, time, pprint"
   ]
  },
  {
   "cell_type": "code",
   "execution_count": 3,
   "id": "0cac5a60",
   "metadata": {},
   "outputs": [],
   "source": [
    "# Function to remove newlines and double spaces from a string.\n",
    "def clean_text(text):\n",
    "    clean_text = text.replace(\"\\n\\n\", \" \")\\\n",
    "                     .replace(\"\\n\", \" \")\\\n",
    "                     .replace(\"<br><br>\", \" \")\\\n",
    "                     .replace(\"<br /><br />\", \" \")\n",
    "    \n",
    "    # Remove extra whitespace.\n",
    "    clean_text = ' '.join(clean_text.split())\n",
    "    return clean_text\n",
    "\n",
    "import numpy as np\n",
    "import matplotlib.pyplot as plt\n",
    "\n",
    "# Function to inspect chunk lengths in matplotlit.\n",
    "def plot_chunk_lengths(chunked_docs, title_keyword):\n",
    "    # Get chunk lengths.\n",
    "    lengths = [len(doc.page_content) for doc in chunked_docs]\n",
    "\n",
    "    # Mean, median lengths.\n",
    "    mean_length = np.mean(lengths)\n",
    "    median_length = np.median(lengths)\n",
    "\n",
    "    # Assemble the title.\n",
    "    title = f\"Chunk Lengths from {title_keyword} Chunking\"\n",
    "\n",
    "    # Plot the lengths.\n",
    "    plt.figure(figsize=(10, 6))  # Adjust figure size\n",
    "    plt.plot(lengths, marker='o')  # Plot lengths with circle markers\n",
    "    plt.title(title, fontsize=20, fontweight='bold')\n",
    "    plt.xlabel('Document Index')  # X-axis label\n",
    "    plt.ylabel('Length')  # Y-axis label\n",
    "    plt.grid(True)  # Show grid\n",
    "\n",
    "    # Add a horizontal line at mean and median length\n",
    "    plt.axhline(y=mean_length, color='g', linestyle='-')\n",
    "    plt.axhline(y=median_length, color='r', linestyle='-')\n",
    "    plt.text(len(lengths)-1, mean_length, f'mean = {mean_length:.0f}', va='center', ha='left', backgroundcolor='w', fontsize=12)\n",
    "    plt.text(0, median_length, f'median = {median_length:.0f}', va='center', ha='right', backgroundcolor='w', fontsize=12)\n",
    "\n",
    "    plt.show()  # Display the plot"
   ]
  },
  {
   "cell_type": "markdown",
   "id": "e059b674",
   "metadata": {},
   "source": [
    "## Download Data\n",
    "\n",
    "TODO: Change data source to Weaviate doc pages. <br>\n",
    "The data used in this notebook is Milvus documentation web pages.\n",
    "\n",
    "The code block below downloads all the web pages into a local directory called `rtdocs`.  \n",
    "\n",
    "I've already uploaded the `rtdocs` data folder to github, so you should see it if you cloned my repo."
   ]
  },
  {
   "cell_type": "code",
   "execution_count": 4,
   "id": "25686cc7",
   "metadata": {},
   "outputs": [],
   "source": [
    "# # UNCOMMENT TO DOWNLOAD THE DOCS.\n",
    "\n",
    "# # !pip install -U langchain\n",
    "# from langchain_community.document_loaders import RecursiveUrlLoader\n",
    "\n",
    "# DOCS_PAGE=\"https://milvus.io/docs/\"\n",
    "\n",
    "# loader = RecursiveUrlLoader(DOCS_PAGE)\n",
    "# docs = loader.load()\n",
    "\n",
    "# num_documents = len(docs)\n",
    "# print(f\"loaded {num_documents} documents\")\n",
    "\n",
    "# # # Subset docs for faster testing\n",
    "# # docs = docs[5:7].copy()\n",
    "# # num_documents = len(docs)\n",
    "# # print(f\"testing with {num_documents} documents\")\n",
    "\n",
    "# # Print the type of the docs.\n",
    "# print(type(docs))\n",
    "# print(type(docs[0]))\n",
    "\n",
    "# docs[0].page_content[:500]\n",
    "\n",
    "# # UNCOMMENT TO SAVE THE DOCS LOCALLY.\n",
    "# OUTPUT_DIR = \"../../RAG/rtdocs_new/\"\n",
    "# os.makedirs(OUTPUT_DIR, exist_ok=True)\n",
    "\n",
    "# # Convert each doc to HTML and save to the specified directory\n",
    "# for doc in docs:\n",
    "#     # Extract file name\n",
    "#     filename = doc.metadata['source'].split('/')[-1].replace(\".md\", \".html\")\n",
    "    \n",
    "#     # Check that filename is not empty\n",
    "#     if filename:\n",
    "#         with open(os.path.join(OUTPUT_DIR, filename), \"w\") as f:\n",
    "#             f.write(doc.page_content)\n",
    "#     else:\n",
    "#         print(\"Filename is empty. Skipping this doc.\")\n",
    "#         pprint.pprint(doc.metadata)\n",
    "#         pprint.pprint(doc.page_content[:500])"
   ]
  },
  {
   "cell_type": "code",
   "execution_count": 5,
   "id": "f0cdd438",
   "metadata": {},
   "outputs": [],
   "source": [
    "# !python -m pip install -U langchain\n",
    "# !python -m pip install -U unstructured\n",
    "# !python -m pip install -U langchain-community\n",
    "# !python -m pip install -U langchain-huggingface\n",
    "# !python -m pip install -U langchain_openai\n",
    "# !python -m pip install -U python-magic"
   ]
  },
  {
   "cell_type": "code",
   "execution_count": 6,
   "id": "075b55bc",
   "metadata": {},
   "outputs": [
    {
     "name": "stdout",
     "output_type": "stream",
     "text": [
      "loaded 22 documents\n",
      "Docs Blog Community Stars0 Home v2.4.x About Milvus Get Started Prerequisites Install Milvus Install SDKs Quickstart Concepts User Guide Models Administration Guide Tools Integrations Example Applications FAQs API reference Quickstart This guide explains how to connect to your Milvus cluster and performs CRUD operations in minutes Before you start You have installed Milvus standalone or Milvus cluster. You have installed preferred SDKs. You can choose among various languages, including Python, J\n",
      "{'source': 'https://milvus.io/docs/quickstart.md'}\n"
     ]
    }
   ],
   "source": [
    "# From raw docs\n",
    "\n",
    "# UNCOMMENT TO READ THE DOCS FROM A LOCAL DIRECTORY.\n",
    "\n",
    "# Read docs into LangChain\n",
    "from langchain.document_loaders import DirectoryLoader\n",
    "import magic\n",
    "\n",
    "# Load HTML files from a local directory\n",
    "path = \"rtdocs_new/\"\n",
    "global_pattern = '*.html'\n",
    "loader = DirectoryLoader(path=path, glob=global_pattern)\n",
    "docs = loader.load()\n",
    "\n",
    "num_documents = len(docs)\n",
    "print(f\"loaded {num_documents} documents\")\n",
    "\n",
    "# Clean up \\n literals and source metdata.\n",
    "for doc in docs:\n",
    "    doc.page_content = clean_text(doc.page_content)\n",
    "    doc.metadata[\"source\"] = \\\n",
    "        doc.metadata[\"source\"]\\\n",
    "            .replace(\"rtdocs_new\", \"https://milvus.io/docs\")\\\n",
    "            .replace(\".html\", \".md\")\n",
    "    \n",
    "print(docs[0].page_content[:500])\n",
    "pprint.pprint(docs[0].metadata)"
   ]
  },
  {
   "cell_type": "code",
   "execution_count": 7,
   "id": "3d41373c",
   "metadata": {},
   "outputs": [],
   "source": [
    "# # List all the unique sources for these docs.\n",
    "# doc_sources = set([doc.metadata['source'] for doc in docs])\n",
    "# print(len(doc_sources))\n",
    "# doc_sources"
   ]
  },
  {
   "cell_type": "markdown",
   "id": "f19236fe",
   "metadata": {},
   "source": [
    "## Load the Embedding Model checkpoint and use it to create vector embeddings\n",
    "\n",
    "#### What are Embeddings?\n",
    "\n",
    "Check out TODO link for an introduction to embeddings.  \n",
    "\n",
    "An excellent place to start is by selecting an embedding model from the [HuggingFace MTEB Leaderboard](https://huggingface.co/spaces/mteb/leaderboard), sorted descending by the \"Retrieval Average'' column since this task is most relevant to RAG. Then, choose the smallest, highest-ranking embedding model. But, Beware!! some models listed are overfit to the training data, so they won't perform on your data as promised.  \n",
    "\n",
    "Weaviate only supports tested embedding models that are **not overfit**!"
   ]
  },
  {
   "cell_type": "markdown",
   "id": "9b6c23fc",
   "metadata": {},
   "source": [
    "### Use open source Embedding Model from HuggingFace"
   ]
  },
  {
   "cell_type": "code",
   "execution_count": 8,
   "id": "2f338b22",
   "metadata": {},
   "outputs": [],
   "source": [
    "# !python -m pip install --upgrade langchain_huggingface"
   ]
  },
  {
   "cell_type": "code",
   "execution_count": 9,
   "id": "f043c02e",
   "metadata": {},
   "outputs": [
    {
     "name": "stderr",
     "output_type": "stream",
     "text": [
      "/Users/christy/Documents/py312/lib/python3.12/site-packages/sentence_transformers/cross_encoder/CrossEncoder.py:13: TqdmExperimentalWarning: Using `tqdm.autonotebook.tqdm` in notebook mode. Use `tqdm.tqdm` instead to force console mode (e.g. in jupyter console)\n",
      "  from tqdm.autonotebook import tqdm, trange\n"
     ]
    },
    {
     "name": "stdout",
     "output_type": "stream",
     "text": [
      "MODEL: BAAI/bge-large-en-v1.5, EMBEDDING_DIM: 1024\n"
     ]
    }
   ],
   "source": [
    "import torch\n",
    "from langchain_huggingface import HuggingFaceEmbeddings\n",
    "\n",
    "# Initialize torch settings for device-agnostic code\n",
    "N_GPU = torch.cuda.device_count()\n",
    "DEVICE = torch.device('cuda:N_GPU' if torch.cuda.is_available() else 'cpu')\n",
    "\n",
    "# Use an embedding model.\n",
    "model_name = \"BAAI/bge-large-en-v1.5\"\n",
    "model_kwargs = {'device': DEVICE}\n",
    "encode_kwargs = {'normalize_embeddings': True}\n",
    "embed_model = HuggingFaceEmbeddings(\n",
    "    model_name=model_name,\n",
    "    model_kwargs=model_kwargs,\n",
    "    encode_kwargs=encode_kwargs\n",
    ")\n",
    "EMBEDDING_DIM = embed_model.dict()['client'].get_sentence_embedding_dimension()\n",
    "print(f\"MODEL: {model_name}, EMBEDDING_DIM: {EMBEDDING_DIM}\")"
   ]
  },
  {
   "cell_type": "markdown",
   "id": "f06c1cb0",
   "metadata": {},
   "source": [
    "### Use OpenAI Embedding model"
   ]
  },
  {
   "cell_type": "code",
   "execution_count": 10,
   "id": "de45cdd4",
   "metadata": {},
   "outputs": [],
   "source": [
    "# !python -m pip install --upgrade langchain_openai"
   ]
  },
  {
   "cell_type": "code",
   "execution_count": 11,
   "id": "1fab8a0e",
   "metadata": {},
   "outputs": [],
   "source": [
    "# from langchain_openai.embeddings import OpenAIEmbeddings\n",
    "\n",
    "# # 1. Get your API key: https://platform.openai.com/api-keys\n",
    "# # 2. Save your api key in env variable.\n",
    "# # https://help.openai.com/en/articles/5112595-best-practices-for-api-key-safety\n",
    "\n",
    "# # 3. OpenAI embedding model name, `text-embedding-3-large` or `text-embedding-3-small`.\n",
    "# # release notes: https://openai.com/index/new-embedding-models-and-api-updates/\n",
    "# model_name = \"text-embedding-3-small\"\n",
    "# EMBEDDING_DIM = 512\n",
    "\n",
    "# embed_model = OpenAIEmbeddings(\n",
    "#     model=model_name,\n",
    "#     dimensions=EMBEDDING_DIM,\n",
    "# )\n",
    "# print(f\"MODEL: {model_name}, EMBEDDING_DIM: {EMBEDDING_DIM}\")"
   ]
  },
  {
   "cell_type": "markdown",
   "id": "a358824f",
   "metadata": {},
   "source": [
    "## Simple Chunking"
   ]
  },
  {
   "cell_type": "code",
   "execution_count": 12,
   "id": "d471da87",
   "metadata": {},
   "outputs": [],
   "source": [
    "# !python -m pip install -U lxml"
   ]
  },
  {
   "cell_type": "code",
   "execution_count": 13,
   "id": "95e3f0f5",
   "metadata": {},
   "outputs": [],
   "source": [
    "from langchain.text_splitter import RecursiveCharacterTextSplitter\n",
    "import time, pprint"
   ]
  },
  {
   "cell_type": "code",
   "execution_count": 14,
   "id": "439e3ead",
   "metadata": {},
   "outputs": [
    {
     "name": "stdout",
     "output_type": "stream",
     "text": [
      "chunk_size: 512, chunk_overlap: 51.0\n",
      "22 docs split into 584 child documents.\n"
     ]
    },
    {
     "data": {
      "image/png": "[encoded data removed]",
      "text/plain": [
       "<Figure size 1000x600 with 1 Axes>"
      ]
     },
     "metadata": {},
     "output_type": "display_data"
    }
   ],
   "source": [
    "CHUNK_SIZE = 512\n",
    "chunk_overlap = np.round(CHUNK_SIZE * 0.10, 0)\n",
    "print(f\"chunk_size: {CHUNK_SIZE}, chunk_overlap: {chunk_overlap}\")\n",
    "\n",
    "# The splitter to create smaller (child) chunks\n",
    "# Default splitters: https://github.com/langchain-ai/langchain/blob/9ef2feb6747f5a69d186bd623b569ad722829a5e/libs/langchain/langchain/text_splitter.py#L842\n",
    "child_splitter = RecursiveCharacterTextSplitter(\n",
    "    chunk_size=CHUNK_SIZE, \n",
    "    chunk_overlap=chunk_overlap,\n",
    "    # length_function = len,  # use built-in Python len function\n",
    "    # separators = [\"\\n\\n\", \"\\n\", \" \", \". \", \"\"], # defaults\n",
    ")\n",
    "\n",
    "# Child docs for inspection\n",
    "sub_docs = child_splitter.split_documents(docs)\n",
    "print(f\"{len(docs)} docs split into {len(sub_docs)} child documents.\")\n",
    "\n",
    "# Inspect chunk lengths\n",
    "plot_chunk_lengths(sub_docs, 'Recursive Character')"
   ]
  },
  {
   "cell_type": "code",
   "execution_count": 15,
   "id": "ca19ac26",
   "metadata": {},
   "outputs": [
    {
     "name": "stdout",
     "output_type": "stream",
     "text": [
      "584 <class 'langchain_core.documents.base.Document'>\n",
      "<class 'dict'> <class 'str'>\n",
      "page_content='Docs Blog Community Stars0 Home v2.4.x About Milvus Get Started Prerequisites Install Milvus Install SDKs Quickstart Concepts User Guide Models Administration Guide Tools Integrations Example Applications FAQs API reference Quickstart This guide explains how to connect to your Milvus cluster and performs CRUD operations in minutes Before you start You have installed Milvus standalone or Milvus cluster. You have installed preferred SDKs. You can choose among various languages, including Python, Java, Go, and' metadata={'source': 'https://milvus.io/docs/quickstart.md'}\n",
      "\n",
      "584 <class 'list'> <class 'dict'>\n",
      "converted sub_docs_dicts:\n",
      "{'source': 'https://milvus.io/docs/quickstart.md', 'text': 'Docs Blog Community Stars0 Home v2.4.x About Milvus Get Started Prerequisites Install Milvus Install SDKs Quickstart Concepts User Guide Models Administration Guide Tools Integrations Example Applications FAQs API reference Quickstart This guide explains how to connect to your Milvus cluster and performs CRUD operations in minutes Before you start You have installed Milvus standalone or Milvus cluster. You have installed preferred SDKs. You can choose among various languages, including Python, Java, Go, and'}\n"
     ]
    }
   ],
   "source": [
    "# Check type of sub_docs\n",
    "# List of dict metadata, string page_content\n",
    "print(len(sub_docs), type(sub_docs[0]))\n",
    "print(type(sub_docs[0].metadata), type(sub_docs[0].page_content))\n",
    "print(sub_docs[0])\n",
    "print()\n",
    "\n",
    "# Convert sub_docs to a list of dicts.\n",
    "sub_docs_dicts = [{\n",
    "        \"source\": doc.metadata[\"source\"],\n",
    "        \"text\": doc.page_content}\n",
    "    for doc in sub_docs\n",
    "    ]\n",
    "print(len(sub_docs_dicts), type(sub_docs_dicts), type(sub_docs_dicts[0]))\n",
    "print(\"converted sub_docs_dicts:\")\n",
    "print(sub_docs_dicts[0])"
   ]
  },
  {
   "cell_type": "markdown",
   "id": "11deba73",
   "metadata": {},
   "source": [
    "## Create Vector Store Weaviate\n",
    "\n",
    "We'll use the LangChain integrations to create the db: \n",
    "https://python.langchain.com/docs/integrations/vectorstores/weaviate/ <br>\n",
    "\n",
    "We'll use open source HuggingFace embeddings to create the vectors:\n",
    "https://weaviate.io/developers/weaviate/model-providers/huggingface/embeddings <br>\n",
    "\n",
    "We'll use a free sandbox Weaviate cloud cluster:\n",
    "https://console.weaviate.cloud <br>\n",
    "Note: you'll need to update the url and api key for each cluster.<br>\n",
    "\n",
    "Old, but good blog about weaviate:\n",
    "https://weaviate.io/blog/generative-feedback-loops-with-llms <br>"
   ]
  },
  {
   "cell_type": "code",
   "execution_count": null,
   "id": "f269cf67",
   "metadata": {},
   "outputs": [
    {
     "name": "stdout",
     "output_type": "stream",
     "text": [
      "weaviate_client: 4.8.1\n"
     ]
    }
   ],
   "source": [
    "# !pip install python-dotenv\n",
    "# !python -m pip install -U langchain_weaviate\n",
    "# !python -m pip install -U weaviate-client\n",
    "import weaviate\n",
    "print(f\"weaviate_client: {weaviate.__version__}\")"
   ]
  },
  {
   "cell_type": "code",
   "execution_count": null,
   "id": "f005cd86",
   "metadata": {},
   "outputs": [
    {
     "name": "stdout",
     "output_type": "stream",
     "text": [
      "The token has not been saved to the git credentials helper. Pass `add_to_git_credential=True` in this function directly or `--add-to-git-credential` if using via `huggingface-cli` if you want to set the git credential as well.\n",
      "Token is valid (permission: write).\n",
      "Your token has been saved to /Users/christy/.cache/huggingface/token\n",
      "Login successful\n",
      "Weaviate Cloud connection established: True\n"
     ]
    }
   ],
   "source": [
    "from weaviate.classes.init import Auth\n",
    "from huggingface_hub import login\n",
    "from dotenv import load_dotenv\n",
    "# Load the local jupyter .env file.\n",
    "load_dotenv()\n",
    "\n",
    "# Save your api key in env variable.\n",
    "# https://help.openai.com/en/articles/5112595-best-practices-for-api-key-safety\n",
    "# Read local Jupyter .env variables.\n",
    "weaviate_url = os.getenv(\"WCD_DEMO_URL\")\n",
    "weaviate_api_key = os.getenv(\"WCD_DEMO_RO_KEY\")\n",
    "huggingface_key = os.getenv(\"HUGGINGFACEHUB_API_TOKEN\")\n",
    "login(token=huggingface_key)\n",
    "# Get env variable from your shell profile.\n",
    "openai_key = os.environ.get(\"OPENAI_API_KEY\")\n",
    "\n",
    "# Set the encoder model in header for the connection.\n",
    "hf_headers = {\n",
    "    \"X-HuggingFace-Api-Key\": huggingface_key,\n",
    "}\n",
    "openai_headers = {\n",
    "    'X-OpenAI-Api-key': openai_key,\n",
    "}\n",
    "\n",
    "# See docs how to connect.\n",
    "# https://weaviate.io/developers/weaviate/client-libraries/python#connection-helper-functions\n",
    "try:\n",
    "    client.close()  # Ensure the connection is closed\n",
    "except:\n",
    "    pass\n",
    "\n",
    "# Connect to Weaviate Cloud\n",
    "# Specify vectorizer encoder model, if any, in the headers.\n",
    "client = weaviate.connect_to_weaviate_cloud(\n",
    "    cluster_url=weaviate_url,\n",
    "    auth_credentials=Auth.api_key(weaviate_api_key),\n",
    "    headers=hf_headers,\n",
    "    # headers=openai_headers,\n",
    ")\n",
    "print(f\"Weaviate Cloud connection established: {client.is_ready()}\")\n"
   ]
  },
  {
   "cell_type": "code",
   "execution_count": null,
   "id": "cc848faf",
   "metadata": {},
   "outputs": [],
   "source": [
    "# client.get_meta() # see which modules are enabled in Weaviate Embedded"
   ]
  },
  {
   "cell_type": "code",
   "execution_count": 22,
   "id": "6e7ffbcd",
   "metadata": {},
   "outputs": [
    {
     "name": "stdout",
     "output_type": "stream",
     "text": [
      "Collection deleted.\n",
      "Inserted 584 documents in 357.21 seconds.\n"
     ]
    }
   ],
   "source": [
    "from langchain_weaviate.vectorstores import WeaviateVectorStore\n",
    "\n",
    "try:\n",
    "    # DELETE THE COLLECTION AND ALL ITS DATA\n",
    "    client.collections.delete(\"web_docs\")\n",
    "    print(\"Collection deleted.\")\n",
    "except:\n",
    "    pass\n",
    "\n",
    "# Insert sub-docs into weaviate\n",
    "start_time = time.time()\n",
    "\n",
    "db = WeaviateVectorStore.from_documents(\n",
    "    sub_docs, embed_model, \n",
    "    client=client, \n",
    "    index_name=\"web_docs\")\n",
    "\n",
    "end_time = time.time()\n",
    "print(f\"Inserted {len(sub_docs)} documents in {end_time - start_time:.2f} seconds.\")\n",
    "# Embedded AND inserted 584 documents in 3m 24.3s"
   ]
  },
  {
   "cell_type": "code",
   "execution_count": 23,
   "id": "ada204b8",
   "metadata": {},
   "outputs": [
    {
     "name": "stdout",
     "output_type": "stream",
     "text": [
      "AggregateReturn(properties={}, total_count=584)\n",
      "Schema: dict_keys(['text', 'source'])\n",
      "[dockernode02] PLAY [Create milvus coords] *************************************************************************************** TASK [Gathering Facts] ******************************************************************************************** ok: [dockernode01] TASK [rootcoord] ************************************************************************************************** changed: [dockernode01] TASK [datacoord]\n",
      "https://milvus.io/docs/aws.md\n"
     ]
    }
   ],
   "source": [
    "# Get the collection.\n",
    "collection = client.collections.get(\"web_docs\")\n",
    "\n",
    "# Count how many documents are in the collection.\n",
    "response = collection.aggregate.over_all(total_count=True)\n",
    "print(response)\n",
    "assert response.total_count == len(sub_docs)\n",
    "\n",
    "# Inspect one object.\n",
    "object = collection.query.fetch_objects(limit=1).objects[0]\n",
    "print(f\"Schema: {object.properties.keys()}\")\n",
    "print(object.properties.get(\"text\"))\n",
    "print(object.properties.get(\"source\"))"
   ]
  },
  {
   "cell_type": "markdown",
   "id": "1d56239a",
   "metadata": {},
   "source": [
    "## Define 4 questions"
   ]
  },
  {
   "cell_type": "code",
   "execution_count": 24,
   "id": "4689a655",
   "metadata": {},
   "outputs": [
    {
     "name": "stdout",
     "output_type": "stream",
     "text": [
      "example query length: 75\n"
     ]
    }
   ],
   "source": [
    "# Define a sample question about your data.\n",
    "QUESTION1 = \"What do the parameters for HNSW mean?\"\n",
    "QUESTION2 = \"What are good default values for HNSW parameters with 25K vectors dim 1024?\"\n",
    "QUESTION3 = \"What does nlist vs nprobe mean in ivf_flat?\"\n",
    "QUESTION4 = \"What is the default AUTOINDEX index and vector field distance metric in Milvus?\"\n",
    "\n",
    "# In case you want to ask all the questions at once.\n",
    "QUERY = [QUESTION1, QUESTION2, QUESTION3, QUESTION4]\n",
    "\n",
    "# Inspect the length of one question.\n",
    "QUERY_LENGTH = len(QUESTION2)\n",
    "print(f\"example query length: {QUERY_LENGTH}\")"
   ]
  },
  {
   "cell_type": "markdown",
   "id": "f466356b",
   "metadata": {},
   "source": [
    "## DB Retrieval\n",
    "\n",
    "First some definitions:\n",
    "- \"Retrieval\" = query, similar concept to SQL fetch.\n",
    "- \"Search\" = find nearest neighbors in vector space.\n",
    "\n",
    "Note:  We'll use LangChain, which uses Weaviate's Hybrid Search: https://weaviate.io/developers/weaviate/api/graphql/search-operators#hybrid <br>\n",
    "https://python.langchain.com/docs/integrations/vectorstores/weaviate/\n",
    "\n",
    "💡 By their nature, vector searches are \"semantic\" searches.  For example, if you were to search for \"leaky faucet\": \n",
    "> **Key-word Search** - either or both words \"leaky\", \"faucet\" would have to match some text in order to return a web page or link text to the document.\n",
    "\n",
    "> **Semantic search** - results containing words \"drippy\" \"taps\" could be returned because these words mean the same things.\n",
    "\n",
    "> **Hybrid search** - using hyperparam <i>**alpha**</i>, take a linear combination of the keyword and semantic search results."
   ]
  },
  {
   "cell_type": "code",
   "execution_count": 36,
   "id": "eb320e7b",
   "metadata": {},
   "outputs": [
    {
     "name": "stdout",
     "output_type": "stream",
     "text": [
      "2\n",
      "Question: What is the default AUTOINDEX index and vector field distance metric in Milvus?\n",
      "\n",
      "Document 1, score 0.91:\n",
      "2)) // Output // // [ // { // \"params\": [ // { // \"key\": \"index_type\", // \"value\": \"AUTOINDEX\" // },...\n",
      "https://milvus.io/docs/index-vector-fields.md\n",
      "\n",
      "Document 2, score 0.78:\n",
      "Set up index for the collection // 4.1. Set up the index parameters res = await client.createIndex({...\n",
      "https://milvus.io/docs/index-vector-fields.md\n"
     ]
    }
   ],
   "source": [
    "from weaviate.classes.query import Filter\n",
    "\n",
    "# SELECT A PARTICULAR QUESTION TO ASK.\n",
    "SAMPLE_QUESTION = QUESTION4\n",
    "SAMPLE_QUESTION\n",
    "\n",
    "# Client re-connect if necessary.\n",
    "if not client.is_connected():\n",
    "    client.connect()\n",
    "\n",
    "# Langchain embed question automatically not working, do it manually.\n",
    "# Manually embed the question.\n",
    "query_vector = embed_model.embed_query(SAMPLE_QUESTION)\n",
    "query_vector[:5]\n",
    "\n",
    "# Set top_k.\n",
    "TOP_K = 2\n",
    "\n",
    "# Add a filter\n",
    "# Loop through possible filter strings.\n",
    "for filter_str in [\"https://milvus.io/docs/index.md\"]:\n",
    "    search_filter = Filter.by_property(\"source\").equal(filter_str)\n",
    "\n",
    "    # Semantic search with filter\n",
    "    docs = db.similarity_search_with_score(\n",
    "        SAMPLE_QUESTION, \n",
    "        filters=search_filter, \n",
    "        k=TOP_K, \n",
    "        alpha=0.3)\n",
    "\n",
    "    print(len(docs))\n",
    "    assert len(docs) <= TOP_K\n",
    "\n",
    "# Inspect the filtered search results.\n",
    "contexts = []\n",
    "sources = []\n",
    "print(f\"Question: {SAMPLE_QUESTION}\")\n",
    "for i, doc in enumerate(docs):\n",
    "    print(f\"\\nDocument {i+1}, score {doc[1]:.2f}:\")\n",
    "    print(doc[0].page_content[:100] + \"...\")\n",
    "    print(doc[0].metadata[\"source\"])\n",
    "    contexts.append(doc[0].page_content)\n",
    "    sources.append(doc[0].metadata[\"source\"])"
   ]
  },
  {
   "cell_type": "code",
   "execution_count": 37,
   "id": "cfd00033",
   "metadata": {},
   "outputs": [
    {
     "name": "stdout",
     "output_type": "stream",
     "text": [
      "sources: https://milvus.io/docs/index-vector-fields.md\n",
      "Length contexts: 953\n"
     ]
    }
   ],
   "source": [
    "# Combine all the contexts together by space.\n",
    "contexts_combined = ' '.join(contexts)\n",
    "# Lance Martin, LangChain, says put best contexts at end.\n",
    "contexts_combined = ' '.join(reversed(contexts))\n",
    "# Remove double slashes.\n",
    "contexts_combined = contexts_combined.replace(\"//\", \"\")\n",
    "\n",
    "# Combine all the unique sources together by comma.\n",
    "source_combined = ' '.join(reversed(list(dict.fromkeys(sources))))\n",
    "print(f\"sources: {source_combined}\")\n",
    "\n",
    "print(f\"Length contexts: {len(contexts_combined)}\")"
   ]
  },
  {
   "cell_type": "code",
   "execution_count": 48,
   "id": "42707dfe",
   "metadata": {},
   "outputs": [],
   "source": [
    "# # Print out retrievals for copy/paste into Golden Eval Dataset.\n",
    "# pprint.pprint(contexts_combined)\n",
    "# contexts_combined"
   ]
  },
  {
   "cell_type": "code",
   "execution_count": 39,
   "id": "44242897",
   "metadata": {},
   "outputs": [],
   "source": [
    "# Delete the Weaviate collection and doc store.\n",
    "# del vectorstore, retriever, store"
   ]
  },
  {
   "cell_type": "markdown",
   "id": "bd6060ce",
   "metadata": {},
   "source": [
    "# Use an LLM to Generate an answer (G-part of RAG) to the user's question using the retrieved context.\n",
    "\n",
    "Many different generative LLMs exist these days.  Check out the lmsys [leaderboard](https://chat.lmsys.org/?leaderboard).\n",
    "\n",
    "In this notebook, we'll try these LLMs:\n",
    "- The newly released open-source Llama 3.2 from Meta.\n",
    "- The cheapest, paid model from Anthropic Claude3 Haiku.\n",
    "- gpt-4o-mini from Openai."
   ]
  },
  {
   "cell_type": "code",
   "execution_count": 40,
   "id": "0ecae036",
   "metadata": {},
   "outputs": [],
   "source": [
    "# TODO, try out Weaviate's built-in generator models.\n",
    "# https://github.com/weaviate-tutorials/intro-workshop/blob/main/IntroWorkshop2/vectorSearch.ipynb"
   ]
  },
  {
   "cell_type": "code",
   "execution_count": 41,
   "id": "a3c4eaac",
   "metadata": {},
   "outputs": [],
   "source": [
    "## Setup LLM for Answer Generation (G-part of RAG)\n",
    "\n",
    "# Define temperature for the LLM and random seed.\n",
    "TEMPERATURE = 0.1\n",
    "TOP_P = 0.9\n",
    "RANDOM_SEED = 415\n",
    "MAX_TOKENS = 512\n",
    "FREQUENCY_PENALTY = 2"
   ]
  },
  {
   "cell_type": "markdown",
   "id": "11fb35aa",
   "metadata": {},
   "source": [
    "### Try Meta Llama 3 with Ollama to generate a human-like chat response to the user's question\n",
    "\n",
    "Follow the instructions to install ollama and pull a model.<br>\n",
    "https://github.com/ollama/ollama\n",
    "\n",
    "View details about which models are supported by ollama. <br>\n",
    "https://ollama.com/library/llama3\n",
    "\n",
    "That page says `ollama run llama3` will by default pull the latest \"instruct\" model, which is fine-tuned for chat/dialogue use cases.\n",
    "\n",
    "The other kind of llama3 models are \"pre-trained\" base model. <br>\n",
    "Example: ollama run llama3:text ollama run llama3:70b-text\n",
    "\n",
    "**Format** `gguf` means the model runs on CPU.  gg = \"Georgi Gerganov\", creator of the C library model format ggml, which was recently changed to gguf.\n",
    "\n",
    "**Quantization** (think of it like vector compaction) can lead to higher throughput at the expense of lower accuracy.  For the curious, quantization meanings can be found on: <br>\n",
    "https://huggingface.co/TheBloke/Llama-2-13B-chat-GGML/tree/main.  \n",
    "\n",
    "Below just listing the main quantization types.\n",
    "- **q4_0**: Original quant method, 4-bit.\n",
    "- **q4_k_m**: Uses Q6_K for half of the attention.wv and feed_forward.w2 tensors, else Q4_K\n",
    "- **q5_0**: Higher accuracy, higher resource usage and slower inference.\n",
    "- **q5_k_m**: Uses Q6_K for half of the attention.wv and feed_forward.w2 tensors, else Q5_K\n",
    "- **q 6_k**: Uses Q8_K for all tensors\n",
    "- **q8_0**: Almost indistinguishable from float16. High resource use and slow. Not recommended for most users."
   ]
  },
  {
   "cell_type": "code",
   "execution_count": 42,
   "id": "0edc67e3",
   "metadata": {},
   "outputs": [
    {
     "name": "stdout",
     "output_type": "stream",
     "text": [
      "[{'details': {'families': ['llama'],\n",
      "              'family': 'llama',\n",
      "              'format': 'gguf',\n",
      "              'parameter_size': '1.2B',\n",
      "              'parent_model': '',\n",
      "              'quantization_level': 'Q8_0'},\n",
      "  'digest': 'baf6a787fdffd633537aa2eb51cfd54cb93ff08e28040095462bb63daf552878',\n",
      "  'model': 'llama3.2:1b',\n",
      "  'modified_at': '2024-10-03T18:58:44.396638597-07:00',\n",
      "  'name': 'llama3.2:1b',\n",
      "  'size': 1321098329},\n",
      " {'details': {'families': ['llama'],\n",
      "              'family': 'llama',\n",
      "              'format': 'gguf',\n",
      "              'parameter_size': '3.2B',\n",
      "              'parent_model': '',\n",
      "              'quantization_level': 'Q4_K_M'},\n",
      "  'digest': 'a80c4f17acd55265feec403c7aef86be0c25983ab279d83f3bcd3abbcb5b8b72',\n",
      "  'model': 'llama3.2:latest',\n",
      "  'modified_at': '2024-10-03T18:55:17.771588977-07:00',\n",
      "  'name': 'llama3.2:latest',\n",
      "  'size': 2019393189}]\n",
      "MODEL:llama3.2:latest, FORMAT:gguf, PARAMETER_SIZE:3.2B, QUANTIZATION_LEVEL:Q4_K_M, \n",
      "\n"
     ]
    }
   ],
   "source": [
    "# !python -m pip install ollama\n",
    "# !ollama pull llama3\n",
    "import ollama\n",
    "pprint.pprint(ollama.list()['models'])\n",
    "\n",
    "# Verify details which model you are running.\n",
    "OLLAMA_INDEX = 1\n",
    "ollama_llama3p2 = ollama.list()['models'][OLLAMA_INDEX]['name']\n",
    "\n",
    "# Print the model details.\n",
    "keys = ['format', 'parameter_size', 'quantization_level']\n",
    "print(f\"MODEL:{ollama_llama3p2}\", end=\", \")\n",
    "for key in keys:\n",
    "    print(f\"{str.upper(key)}:{ollama.list()['models'][OLLAMA_INDEX]['details'].get(key, 'Key not found in dictionary')}\", end=\", \")\n",
    "print(end=\"\\n\\n\")"
   ]
  },
  {
   "cell_type": "code",
   "execution_count": 43,
   "id": "6708cf82",
   "metadata": {},
   "outputs": [
    {
     "name": "stdout",
     "output_type": "stream",
     "text": [
      "Length prompt: 1378\n"
     ]
    }
   ],
   "source": [
    "# Set the Meta Llama prompt.\n",
    "\n",
    "SYSTEM_PROMPT = f\"\"\"First, check if the provided Context is relevant to \n",
    "the user's question.  Second, only if the provided Context is strongly relevant, \n",
    "answer the question using the Context.  Otherwise, if the Context is not \n",
    "strongly relevant, answer the question without using the Context.  \n",
    "Be clear, concise, relevant.  Answer clearly, in fewer than 2 sentences.\n",
    "Grounding sources: {source_combined}\n",
    "Context: {contexts_combined}\n",
    "\"\"\"\n",
    "print(f\"Length prompt: {len(SYSTEM_PROMPT)}\")\n",
    "\n",
    "# Inspect the prompt.\n",
    "# pprint.pprint(SYSTEM_PROMPT)"
   ]
  },
  {
   "cell_type": "code",
   "execution_count": 44,
   "id": "394f31d0",
   "metadata": {},
   "outputs": [
    {
     "name": "stdout",
     "output_type": "stream",
     "text": [
      "Question: What is the default AUTOINDEX index and vector field distance metric in Milvus?\n",
      "The default AutoIndex configuration for an \"AUTOINDEX\" type with a cosine similarity metric uses 128 dimensions. However, this information isn't explicitly stated in the provided context.\n",
      "\n",
      "According to https://milvus.io/docs/index-vector-fields.md , \n",
      "\n",
      "- The `index_type` is set as `\"AUTOINDEX\"` by default.\n",
      "- For AutoIndex configuration of an index field, it will use a cosine similarity metric with 128 dimensions.\n",
      "ollama_llama3_time: 12.56 seconds\n"
     ]
    }
   ],
   "source": [
    "# Send the question to llama 3 chat.\n",
    "start_time = time.time()\n",
    "response = ollama.chat(\n",
    "    messages=[\n",
    "        {\"role\": \"system\", \"content\": SYSTEM_PROMPT,},\n",
    "        \n",
    "        {\"role\": \"user\", \"content\": f\"question: {SAMPLE_QUESTION}\",}\n",
    "    ],\n",
    "    model=ollama_llama3p2,\n",
    "    stream=False,\n",
    "    options={\"temperature\": TEMPERATURE, \"seed\": RANDOM_SEED,\n",
    "             \"top_p\": TOP_P, \n",
    "            #  \"max_tokens\": MAX_TOKENS,\n",
    "             \"frequency_penalty\": FREQUENCY_PENALTY}\n",
    ")\n",
    "ollama_llama3_time = time.time() - start_time\n",
    "\n",
    "# Print the question and answer along with grounding sources and citations.\n",
    "print(f\"Question: {SAMPLE_QUESTION}\")\n",
    "print(response['message']['content'])\n",
    "print(f\"ollama_llama3_time: {format(ollama_llama3_time, '.2f')} seconds\")"
   ]
  },
  {
   "cell_type": "markdown",
   "id": "3e172726",
   "metadata": {},
   "source": [
    "## Also try OpenAI\n",
    "\n",
    "💡 Note: For use cases that need to always be factually grounded, use very low temperature values while more creative tasks can benefit from higher temperatures."
   ]
  },
  {
   "cell_type": "code",
   "execution_count": 45,
   "id": "493c5e82",
   "metadata": {},
   "outputs": [
    {
     "name": "stdout",
     "output_type": "stream",
     "text": [
      "Length prompt: 1429\n"
     ]
    }
   ],
   "source": [
    "# Create the OpenAI prompt.\n",
    "# Note: for json output ask system prompt \"output in JSON\".\n",
    "\n",
    "SYSTEM_PROMPT = f\"\"\"First, check if the provided Context is relevant to \n",
    "the user's question.  Second, only if the provided Context is strongly relevant, \n",
    "answer the question using the Context.  Otherwise, if the Context is not \n",
    "strongly relevant, answer the question without using the Context.\n",
    "Be clear, concise, relevant.  Answer clearly, easy to understand, \n",
    "fewer than 2 sentences, and cite unique grounding sources.\n",
    "Grounding sources: {source_combined}\n",
    "Context: {contexts_combined}\n",
    "\"\"\"\n",
    "print(f\"Length prompt: {len(SYSTEM_PROMPT)}\")\n",
    "\n",
    "\n",
    "# Inspect the prompt.\n",
    "# pprint.pprint(SYSTEM_PROMPT)"
   ]
  },
  {
   "cell_type": "code",
   "execution_count": 46,
   "id": "76a62feb",
   "metadata": {},
   "outputs": [
    {
     "name": "stdout",
     "output_type": "stream",
     "text": [
      "Question: What is the default AUTOINDEX index and vector field distance metric in Milvus?\n",
      "('Answer: The default AUTOINDEX index in Milvus uses the COSINE distance '\n",
      " 'metric for vector fields.')\n",
      "\n",
      "\n",
      "chatgpt_4o_mini_time: 0.61027\n"
     ]
    }
   ],
   "source": [
    "import openai, pprint\n",
    "from openai import OpenAI\n",
    "\n",
    "# 1. Define the generation llm model to use.\n",
    "# https://openai.com/blog/new-embedding-models-and-api-updates\n",
    "# LLM_NAME = \"gpt-3.5-turbo\"\n",
    "LLM_NAME = \"gpt-4o-mini\"\n",
    "\n",
    "# 2. Get your API key: https://platform.openai.com/api-keys\n",
    "# 3. Save your api key in env variable.\n",
    "# https://help.openai.com/en/articles/5112595-best-practices-for-api-key-safety\n",
    "openai_client = OpenAI(\n",
    "    # This is the default and can be omitted\n",
    "    api_key=os.environ.get(\"OPENAI_API_KEY\"),\n",
    ")\n",
    "\n",
    "# 4. Generate response using the OpenAI API.\n",
    "start_time = time.time()\n",
    "response = openai_client.chat.completions.create(\n",
    "    messages=[\n",
    "        {\"role\": \"system\", \"content\": SYSTEM_PROMPT,},\n",
    "        {\"role\": \"user\", \"content\": f\"question: {SAMPLE_QUESTION}\",}\n",
    "    ],\n",
    "    model=LLM_NAME,\n",
    "    temperature=TEMPERATURE,\n",
    "    seed=RANDOM_SEED,\n",
    "    frequency_penalty=FREQUENCY_PENALTY,\n",
    "    # response_format={ \"type\": \"json_object\" } # for json\n",
    ")\n",
    "chatgpt_4o_mini_time = time.time() - start_time\n",
    "\n",
    "# Print the question and answer along with grounding sources and citations.\n",
    "print(f\"Question: {SAMPLE_QUESTION}\")\n",
    "\n",
    "# 5. Print all answers in the response.\n",
    "for i, choice in enumerate(response.choices, 1):\n",
    "    pprint.pprint(f\"Answer: {choice.message.content}\")\n",
    "    print(\"\\n\")\n",
    "print(f\"chatgpt_4o_mini_time: {format(chatgpt_4o_mini_time, '.5f')}\")"
   ]
  },
  {
   "cell_type": "code",
   "execution_count": 47,
   "id": "c777937e",
   "metadata": {},
   "outputs": [
    {
     "name": "stdout",
     "output_type": "stream",
     "text": [
      "The watermark extension is already loaded. To reload it, use:\n",
      "  %reload_ext watermark\n",
      "Author: Christy Bergman\n",
      "\n",
      "Python implementation: CPython\n",
      "Python version       : 3.12.5\n",
      "IPython version      : 8.26.0\n",
      "\n",
      "unstructured: 0.15.13\n",
      "lxml        : 5.3.0\n",
      "torch       : 2.4.0\n",
      "weaviate    : 4.8.1\n",
      "langchain   : 0.3.3\n",
      "ollama      : 0.3.3\n",
      "openai      : 1.51.0\n",
      "\n",
      "conda environment: n/a\n",
      "\n"
     ]
    }
   ],
   "source": [
    "# Props to Sebastian Raschka for this handy watermark.\n",
    "# !python -m pip install watermark\n",
    "%load_ext watermark\n",
    "\n",
    "%watermark -a 'Christy Bergman' -v -p unstructured,lxml,torch,weaviate,langchain,ollama,openai --conda"
   ]
  }
 ],
 "metadata": {
  "kernelspec": {
   "display_name": "py312",
   "language": "python",
   "name": "python3"
  },
  "language_info": {
   "codemirror_mode": {
    "name": "ipython",
    "version": 3
   },
   "file_extension": ".py",
   "mimetype": "text/x-python",
   "name": "python",
   "nbconvert_exporter": "python",
   "pygments_lexer": "ipython3",
   "version": "3.12.5"
  }
 },
 "nbformat": 4,
 "nbformat_minor": 5
}
